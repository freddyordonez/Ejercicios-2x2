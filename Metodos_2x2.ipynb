{
  "nbformat": 4,
  "nbformat_minor": 0,
  "metadata": {
    "colab": {
      "provenance": [],
      "authorship_tag": "ABX9TyNtfmLRfRTemP7QNyg2UQGi",
      "include_colab_link": true
    },
    "kernelspec": {
      "name": "python3",
      "display_name": "Python 3"
    },
    "language_info": {
      "name": "python"
    }
  },
  "cells": [
    {
      "cell_type": "markdown",
      "metadata": {
        "id": "view-in-github",
        "colab_type": "text"
      },
      "source": [
        "<a href=\"https://colab.research.google.com/github/freddyordonez/Ejercicios-2x2/blob/main/Metodos_2x2.ipynb\" target=\"_parent\"><img src=\"https://colab.research.google.com/assets/colab-badge.svg\" alt=\"Open In Colab\"/></a>"
      ]
    },
    {
      "cell_type": "code",
      "source": [
        "!pip install --upgrade // ejercicio 1\n",
        "!pip install sympy"
      ],
      "metadata": {
        "id": "rWJ6rp2cUMEV"
      },
      "execution_count": null,
      "outputs": []
    },
    {
      "cell_type": "code",
      "source": [
        "import sympy\n",
        "\n",
        "\n",
        "\n",
        "from sympy import symbols, Eq, solve\n",
        "\n",
        "# Definimos las variables\n",
        "x, y = symbols('x y')\n",
        "\n",
        "print(\"Resolviendo un sistema 2x2 con el MÉTODO DE SUSTITUCIÓN\")\n",
        "print(\"Forma general:\")\n",
        "print(\"a1*x + b1*y = c1\")\n",
        "print(\"a2*x + b2*y = c2\")\n",
        "print(\"-\" * 50)\n",
        "\n",
        "# Pedimos los coeficientes al usuario\n",
        "a1, b1, c1 = map(float, input(\"Ingrese los coeficientes de la primera ecuación (a1 b1 c1): \").split())\n",
        "a2, b2, c2 = map(float, input(\"Ingrese los coeficientes de la segunda ecuación (a2 b2 c2): \").split())\n",
        "\n",
        "# Creamos las ecuaciones\n",
        "ec1 = Eq(a1*x + b1*y, c1)\n",
        "ec2 = Eq(a2*x + b2*y, c2)\n",
        "\n",
        "print(\"\\nEcuaciones ingresadas:\")\n",
        "print(\"E1:\", ec1)\n",
        "print(\"E2:\", ec2)\n",
        "\n",
        "# Paso 1: Despejar x de la primera ecuación\n",
        "despeje_x = solve(ec1, x)[0]\n",
        "print(f\"\\nPaso 1: Despejamos x de la primera ecuación:\")\n",
        "print(f\"x = {despeje_x}\")\n",
        "\n",
        "# Paso 2: Sustituimos x en la segunda ecuación\n",
        "print(\"\\nPaso 2: Sustituimos x en la segunda ecuación:\")\n",
        "ec2_sust = ec2.subs(x, despeje_x)\n",
        "print(\"Ecuación en y:\", ec2_sust)\n",
        "\n",
        "# Paso 3: Resolver para y\n",
        "sol_y = solve(ec2_sust, y)[0]\n",
        "print(f\"\\nPaso 3: Resolviendo para y obtenemos: y = {sol_y}\")\n",
        "\n",
        "# Paso 4: Sustituir y en la ecuación de x\n",
        "sol_x = despeje_x.subs(y, sol_y)\n",
        "print(f\"\\nPaso 4: Sustituyendo y en la ecuación despejada obtenemos: x = {sol_x}\")\n",
        "\n",
        "# Solución final\n",
        "print(\"\\n✅ Solución del sistema:\")\n",
        "print(f\"x = {sol_x}, y = {sol_y}\")\n",
        "\n"
      ],
      "metadata": {
        "colab": {
          "base_uri": "https://localhost:8080/"
        },
        "id": "p40LVIX4T3Sg",
        "outputId": "6ddddad8-143f-4552-f205-a9fde564e66b"
      },
      "execution_count": 5,
      "outputs": [
        {
          "output_type": "stream",
          "name": "stdout",
          "text": [
            "Resolviendo un sistema 2x2 con el MÉTODO DE SUSTITUCIÓN\n",
            "Forma general:\n",
            "a1*x + b1*y = c1\n",
            "a2*x + b2*y = c2\n",
            "--------------------------------------------------\n",
            "Ingrese los coeficientes de la primera ecuación (a1 b1 c1): 1 -2 1\n",
            "Ingrese los coeficientes de la segunda ecuación (a2 b2 c2): 2 3 9\n",
            "\n",
            "Ecuaciones ingresadas:\n",
            "E1: Eq(1.0*x - 2.0*y, 1.0)\n",
            "E2: Eq(2.0*x + 3.0*y, 9.0)\n",
            "\n",
            "Paso 1: Despejamos x de la primera ecuación:\n",
            "x = 2.0*y + 1.0\n",
            "\n",
            "Paso 2: Sustituimos x en la segunda ecuación:\n",
            "Ecuación en y: Eq(7.0*y + 2.0, 9.0)\n",
            "\n",
            "Paso 3: Resolviendo para y obtenemos: y = 1.00000000000000\n",
            "\n",
            "Paso 4: Sustituyendo y en la ecuación despejada obtenemos: x = 3.00000000000000\n",
            "\n",
            "✅ Solución del sistema:\n",
            "x = 3.00000000000000, y = 1.00000000000000\n"
          ]
        }
      ]
    },
    {
      "cell_type": "code",
      "source": [
        "!pip install --upgrade // ejercicio 2\n",
        "!pip install sympy"
      ],
      "metadata": {
        "id": "r0T4dYmhUWBR"
      },
      "execution_count": null,
      "outputs": []
    },
    {
      "cell_type": "code",
      "source": [
        "import sympy\n",
        "\n",
        "\n",
        "\n",
        "from sympy import symbols, Eq, solve\n",
        "\n",
        "# Definimos las variables\n",
        "x, y = symbols('x y')\n",
        "\n",
        "print(\"Resolviendo un sistema 2x2 con el MÉTODO DE SUSTITUCIÓN\")\n",
        "print(\"Forma general:\")\n",
        "print(\"a1*x + b1*y = c1\")\n",
        "print(\"a2*x + b2*y = c2\")\n",
        "print(\"-\" * 50)\n",
        "\n",
        "# Pedimos los coeficientes al usuario\n",
        "a1, b1, c1 = map(float, input(\"Ingrese los coeficientes de la primera ecuación (a1 b1 c1): \").split())\n",
        "a2, b2, c2 = map(float, input(\"Ingrese los coeficientes de la segunda ecuación (a2 b2 c2): \").split())\n",
        "\n",
        "# Creamos las ecuaciones\n",
        "ec1 = Eq(a1*x + b1*y, c1)\n",
        "ec2 = Eq(a2*x + b2*y, c2)\n",
        "\n",
        "print(\"\\nEcuaciones ingresadas:\")\n",
        "print(\"E1:\", ec1)\n",
        "print(\"E2:\", ec2)\n",
        "\n",
        "# Paso 1: Despejar x de la primera ecuación\n",
        "despeje_x = solve(ec1, x)[0]\n",
        "print(f\"\\nPaso 1: Despejamos x de la primera ecuación:\")\n",
        "print(f\"x = {despeje_x}\")\n",
        "\n",
        "# Paso 2: Sustituimos x en la segunda ecuación\n",
        "print(\"\\nPaso 2: Sustituimos x en la segunda ecuación:\")\n",
        "ec2_sust = ec2.subs(x, despeje_x)\n",
        "print(\"Ecuación en y:\", ec2_sust)\n",
        "\n",
        "# Paso 3: Resolver para y\n",
        "sol_y = solve(ec2_sust, y)[0]\n",
        "print(f\"\\nPaso 3: Resolviendo para y obtenemos: y = {sol_y}\")\n",
        "\n",
        "# Paso 4: Sustituir y en la ecuación de x\n",
        "sol_x = despeje_x.subs(y, sol_y)\n",
        "print(f\"\\nPaso 4: Sustituyendo y en la ecuación despejada obtenemos: x = {sol_x}\")\n",
        "\n",
        "# Solución final\n",
        "print(\"\\n✅ Solución del sistema:\")\n",
        "print(f\"x = {sol_x}, y = {sol_y}\")\n",
        "\n"
      ],
      "metadata": {
        "colab": {
          "base_uri": "https://localhost:8080/"
        },
        "outputId": "470ccfbf-cd6c-442e-fc0c-aac58c54efda",
        "id": "WpMBiWc9UYUJ"
      },
      "execution_count": 6,
      "outputs": [
        {
          "output_type": "stream",
          "name": "stdout",
          "text": [
            "Resolviendo un sistema 2x2 con el MÉTODO DE SUSTITUCIÓN\n",
            "Forma general:\n",
            "a1*x + b1*y = c1\n",
            "a2*x + b2*y = c2\n",
            "--------------------------------------------------\n",
            "Ingrese los coeficientes de la primera ecuación (a1 b1 c1): 1 3 6\n",
            "Ingrese los coeficientes de la segunda ecuación (a2 b2 c2): 5 -2 13\n",
            "\n",
            "Ecuaciones ingresadas:\n",
            "E1: Eq(1.0*x + 3.0*y, 6.0)\n",
            "E2: Eq(5.0*x - 2.0*y, 13.0)\n",
            "\n",
            "Paso 1: Despejamos x de la primera ecuación:\n",
            "x = 6.0 - 3.0*y\n",
            "\n",
            "Paso 2: Sustituimos x en la segunda ecuación:\n",
            "Ecuación en y: Eq(30.0 - 17.0*y, 13.0)\n",
            "\n",
            "Paso 3: Resolviendo para y obtenemos: y = 1.00000000000000\n",
            "\n",
            "Paso 4: Sustituyendo y en la ecuación despejada obtenemos: x = 3.00000000000000\n",
            "\n",
            "✅ Solución del sistema:\n",
            "x = 3.00000000000000, y = 1.00000000000000\n"
          ]
        }
      ]
    },
    {
      "cell_type": "code",
      "source": [
        "!pip install --upgrade // ejercicio 3\n",
        "!pip install sympy"
      ],
      "metadata": {
        "id": "ICnONY4iXuGh"
      },
      "execution_count": null,
      "outputs": []
    },
    {
      "cell_type": "code",
      "source": [
        "import sympy\n",
        "\n",
        "\n",
        "\n",
        "from sympy import symbols, Eq, solve\n",
        "\n",
        "# Definimos las variables\n",
        "x, y = symbols('x y')\n",
        "\n",
        "print(\"Resolviendo un sistema 2x2 con el MÉTODO DE SUSTITUCIÓN\")\n",
        "print(\"Forma general:\")\n",
        "print(\"a1*x + b1*y = c1\")\n",
        "print(\"a2*x + b2*y = c2\")\n",
        "print(\"-\" * 50)\n",
        "\n",
        "# Pedimos los coeficientes al usuario\n",
        "a1, b1, c1 = map(float, input(\"Ingrese los coeficientes de la primera ecuación (a1 b1 c1): \").split())\n",
        "a2, b2, c2 = map(float, input(\"Ingrese los coeficientes de la segunda ecuación (a2 b2 c2): \").split())\n",
        "\n",
        "# Creamos las ecuaciones\n",
        "ec1 = Eq(a1*x + b1*y, c1)\n",
        "ec2 = Eq(a2*x + b2*y, c2)\n",
        "\n",
        "print(\"\\nEcuaciones ingresadas:\")\n",
        "print(\"E1:\", ec1)\n",
        "print(\"E2:\", ec2)\n",
        "\n",
        "# Paso 1: Despejar x de la primera ecuación\n",
        "despeje_x = solve(ec1, x)[0]\n",
        "print(f\"\\nPaso 1: Despejamos x de la primera ecuación:\")\n",
        "print(f\"x = {despeje_x}\")\n",
        "\n",
        "# Paso 2: Sustituimos x en la segunda ecuación\n",
        "print(\"\\nPaso 2: Sustituimos x en la segunda ecuación:\")\n",
        "ec2_sust = ec2.subs(x, despeje_x)\n",
        "print(\"Ecuación en y:\", ec2_sust)\n",
        "\n",
        "# Paso 3: Resolver para y\n",
        "sol_y = solve(ec2_sust, y)[0]\n",
        "print(f\"\\nPaso 3: Resolviendo para y obtenemos: y = {sol_y}\")\n",
        "\n",
        "# Paso 4: Sustituir y en la ecuación de x\n",
        "sol_x = despeje_x.subs(y, sol_y)\n",
        "print(f\"\\nPaso 4: Sustituyendo y en la ecuación despejada obtenemos: x = {sol_x}\")\n",
        "\n",
        "# Solución final\n",
        "print(\"\\n✅ Solución del sistema:\")\n",
        "print(f\"x = {sol_x}, y = {sol_y}\")\n",
        "\n"
      ],
      "metadata": {
        "colab": {
          "base_uri": "https://localhost:8080/"
        },
        "id": "ZK8U4fUFX1s0",
        "outputId": "708e9cf6-0dbd-491b-f4fb-9ec5ac9917d8"
      },
      "execution_count": 7,
      "outputs": [
        {
          "output_type": "stream",
          "name": "stdout",
          "text": [
            "Resolviendo un sistema 2x2 con el MÉTODO DE SUSTITUCIÓN\n",
            "Forma general:\n",
            "a1*x + b1*y = c1\n",
            "a2*x + b2*y = c2\n",
            "--------------------------------------------------\n",
            "Ingrese los coeficientes de la primera ecuación (a1 b1 c1): 5 7 -1\n",
            "Ingrese los coeficientes de la segunda ecuación (a2 b2 c2): -3 4 -24\n",
            "\n",
            "Ecuaciones ingresadas:\n",
            "E1: Eq(5.0*x + 7.0*y, -1.0)\n",
            "E2: Eq(-3.0*x + 4.0*y, -24.0)\n",
            "\n",
            "Paso 1: Despejamos x de la primera ecuación:\n",
            "x = -1.4*y - 0.2\n",
            "\n",
            "Paso 2: Sustituimos x en la segunda ecuación:\n",
            "Ecuación en y: Eq(8.2*y + 0.6, -24.0)\n",
            "\n",
            "Paso 3: Resolviendo para y obtenemos: y = -3.00000000000000\n",
            "\n",
            "Paso 4: Sustituyendo y en la ecuación despejada obtenemos: x = 4.00000000000000\n",
            "\n",
            "✅ Solución del sistema:\n",
            "x = 4.00000000000000, y = -3.00000000000000\n"
          ]
        }
      ]
    },
    {
      "cell_type": "code",
      "source": [
        "!pip install --upgrade // ejercicio 4\n",
        "!pip install sympy"
      ],
      "metadata": {
        "id": "4mMfSCZYZLWh"
      },
      "execution_count": null,
      "outputs": []
    },
    {
      "cell_type": "code",
      "source": [
        "import sympy\n",
        "\n",
        "\n",
        "\n",
        "from sympy import symbols, Eq, solve\n",
        "\n",
        "# Definimos las variables\n",
        "x, y = symbols('x y')\n",
        "\n",
        "print(\"Resolviendo un sistema 2x2 con el MÉTODO DE SUSTITUCIÓN\")\n",
        "print(\"Forma general:\")\n",
        "print(\"a1*x + b1*y = c1\")\n",
        "print(\"a2*x + b2*y = c2\")\n",
        "print(\"-\" * 50)\n",
        "\n",
        "# Pedimos los coeficientes al usuario\n",
        "a1, b1, c1 = map(float, input(\"Ingrese los coeficientes de la primera ecuación (a1 b1 c1): \").split())\n",
        "a2, b2, c2 = map(float, input(\"Ingrese los coeficientes de la segunda ecuación (a2 b2 c2): \").split())\n",
        "\n",
        "# Creamos las ecuaciones\n",
        "ec1 = Eq(a1*x + b1*y, c1)\n",
        "ec2 = Eq(a2*x + b2*y, c2)\n",
        "\n",
        "print(\"\\nEcuaciones ingresadas:\")\n",
        "print(\"E1:\", ec1)\n",
        "print(\"E2:\", ec2)\n",
        "\n",
        "# Paso 1: Despejar x de la primera ecuación\n",
        "despeje_x = solve(ec1, x)[0]\n",
        "print(f\"\\nPaso 1: Despejamos x de la primera ecuación:\")\n",
        "print(f\"x = {despeje_x}\")\n",
        "\n",
        "# Paso 2: Sustituimos x en la segunda ecuación\n",
        "print(\"\\nPaso 2: Sustituimos x en la segunda ecuación:\")\n",
        "ec2_sust = ec2.subs(x, despeje_x)\n",
        "print(\"Ecuación en y:\", ec2_sust)\n",
        "\n",
        "# Paso 3: Resolver para y\n",
        "sol_y = solve(ec2_sust, y)[0]\n",
        "print(f\"\\nPaso 3: Resolviendo para y obtenemos: y = {sol_y}\")\n",
        "\n",
        "# Paso 4: Sustituir y en la ecuación de x\n",
        "sol_x = despeje_x.subs(y, sol_y)\n",
        "print(f\"\\nPaso 4: Sustituyendo y en la ecuación despejada obtenemos: x = {sol_x}\")\n",
        "\n",
        "# Solución final\n",
        "print(\"\\n✅ Solución del sistema:\")\n",
        "print(f\"x = {sol_x}, y = {sol_y}\")\n",
        "\n"
      ],
      "metadata": {
        "colab": {
          "base_uri": "https://localhost:8080/"
        },
        "outputId": "28cbb459-3fd2-4343-b32f-033286fe4338",
        "id": "DtHweBSNZOi5"
      },
      "execution_count": 8,
      "outputs": [
        {
          "output_type": "stream",
          "name": "stdout",
          "text": [
            "Resolviendo un sistema 2x2 con el MÉTODO DE SUSTITUCIÓN\n",
            "Forma general:\n",
            "a1*x + b1*y = c1\n",
            "a2*x + b2*y = c2\n",
            "--------------------------------------------------\n",
            "Ingrese los coeficientes de la primera ecuación (a1 b1 c1): 5 11 32\n",
            "Ingrese los coeficientes de la segunda ecuación (a2 b2 c2): 7 -9 8\n",
            "\n",
            "Ecuaciones ingresadas:\n",
            "E1: Eq(5.0*x + 11.0*y, 32.0)\n",
            "E2: Eq(7.0*x - 9.0*y, 8.0)\n",
            "\n",
            "Paso 1: Despejamos x de la primera ecuación:\n",
            "x = 6.4 - 2.2*y\n",
            "\n",
            "Paso 2: Sustituimos x en la segunda ecuación:\n",
            "Ecuación en y: Eq(44.8 - 24.4*y, 8.0)\n",
            "\n",
            "Paso 3: Resolviendo para y obtenemos: y = 1.50819672131148\n",
            "\n",
            "Paso 4: Sustituyendo y en la ecuación despejada obtenemos: x = 3.08196721311475\n",
            "\n",
            "✅ Solución del sistema:\n",
            "x = 3.08196721311475, y = 1.50819672131148\n"
          ]
        }
      ]
    },
    {
      "cell_type": "code",
      "source": [
        "!pip install --upgrade // ejercicio 5\n",
        "!pip install sympy"
      ],
      "metadata": {
        "id": "zxadeCNbZdlw"
      },
      "execution_count": null,
      "outputs": []
    },
    {
      "cell_type": "code",
      "source": [
        "import sympy\n",
        "\n",
        "\n",
        "\n",
        "from sympy import symbols, Eq, solve\n",
        "\n",
        "# Definimos las variables\n",
        "x, y = symbols('x y')\n",
        "\n",
        "print(\"Resolviendo un sistema 2x2 con el MÉTODO DE SUSTITUCIÓN\")\n",
        "print(\"Forma general:\")\n",
        "print(\"a1*x + b1*y = c1\")\n",
        "print(\"a2*x + b2*y = c2\")\n",
        "print(\"-\" * 50)\n",
        "\n",
        "# Pedimos los coeficientes al usuario\n",
        "a1, b1, c1 = map(float, input(\"Ingrese los coeficientes de la primera ecuación (a1 b1 c1): \").split())\n",
        "a2, b2, c2 = map(float, input(\"Ingrese los coeficientes de la segunda ecuación (a2 b2 c2): \").split())\n",
        "\n",
        "# Creamos las ecuaciones\n",
        "ec1 = Eq(a1*x + b1*y, c1)\n",
        "ec2 = Eq(a2*x + b2*y, c2)\n",
        "\n",
        "print(\"\\nEcuaciones ingresadas:\")\n",
        "print(\"E1:\", ec1)\n",
        "print(\"E2:\", ec2)\n",
        "\n",
        "# Paso 1: Despejar x de la primera ecuación\n",
        "despeje_x = solve(ec1, x)[0]\n",
        "print(f\"\\nPaso 1: Despejamos x de la primera ecuación:\")\n",
        "print(f\"x = {despeje_x}\")\n",
        "\n",
        "# Paso 2: Sustituimos x en la segunda ecuación\n",
        "print(\"\\nPaso 2: Sustituimos x en la segunda ecuación:\")\n",
        "ec2_sust = ec2.subs(x, despeje_x)\n",
        "print(\"Ecuación en y:\", ec2_sust)\n",
        "\n",
        "# Paso 3: Resolver para y\n",
        "sol_y = solve(ec2_sust, y)[0]\n",
        "print(f\"\\nPaso 3: Resolviendo para y obtenemos: y = {sol_y}\")\n",
        "\n",
        "# Paso 4: Sustituir y en la ecuación de x\n",
        "sol_x = despeje_x.subs(y, sol_y)\n",
        "print(f\"\\nPaso 4: Sustituyendo y en la ecuación despejada obtenemos: x = {sol_x}\")\n",
        "\n",
        "# Solución final\n",
        "print(\"\\n✅ Solución del sistema:\")\n",
        "print(f\"x = {sol_x}, y = {sol_y}\")\n",
        "\n"
      ],
      "metadata": {
        "colab": {
          "base_uri": "https://localhost:8080/"
        },
        "outputId": "9c87eee0-74de-46ed-804f-2f5eb75c1006",
        "id": "ZEh8kg1RZf6S"
      },
      "execution_count": 9,
      "outputs": [
        {
          "output_type": "stream",
          "name": "stdout",
          "text": [
            "Resolviendo un sistema 2x2 con el MÉTODO DE SUSTITUCIÓN\n",
            "Forma general:\n",
            "a1*x + b1*y = c1\n",
            "a2*x + b2*y = c2\n",
            "--------------------------------------------------\n",
            "Ingrese los coeficientes de la primera ecuación (a1 b1 c1): 10 18 -11\n",
            "Ingrese los coeficientes de la segunda ecuación (a2 b2 c2): 16 -9 -5\n",
            "\n",
            "Ecuaciones ingresadas:\n",
            "E1: Eq(10.0*x + 18.0*y, -11.0)\n",
            "E2: Eq(16.0*x - 9.0*y, -5.0)\n",
            "\n",
            "Paso 1: Despejamos x de la primera ecuación:\n",
            "x = -1.8*y - 1.1\n",
            "\n",
            "Paso 2: Sustituimos x en la segunda ecuación:\n",
            "Ecuación en y: Eq(-37.8*y - 17.6, -5.0)\n",
            "\n",
            "Paso 3: Resolviendo para y obtenemos: y = -0.333333333333333\n",
            "\n",
            "Paso 4: Sustituyendo y en la ecuación despejada obtenemos: x = -0.500000000000000\n",
            "\n",
            "✅ Solución del sistema:\n",
            "x = -0.500000000000000, y = -0.333333333333333\n"
          ]
        }
      ]
    },
    {
      "cell_type": "code",
      "source": [
        "!pip install --upgrade // ejercicio 6\n",
        "!pip install sympy"
      ],
      "metadata": {
        "id": "_RBU30I1ZrDg"
      },
      "execution_count": null,
      "outputs": []
    },
    {
      "cell_type": "code",
      "source": [
        "import sympy\n",
        "\n",
        "\n",
        "\n",
        "from sympy import symbols, Eq, solve\n",
        "\n",
        "# Definimos las variables\n",
        "x, y = symbols('x y')\n",
        "\n",
        "print(\"Resolviendo un sistema 2x2 con el MÉTODO DE SUSTITUCIÓN\")\n",
        "print(\"Forma general:\")\n",
        "print(\"a1*x + b1*y = c1\")\n",
        "print(\"a2*x + b2*y = c2\")\n",
        "print(\"-\" * 50)\n",
        "\n",
        "# Pedimos los coeficientes al usuario\n",
        "a1, b1, c1 = map(float, input(\"Ingrese los coeficientes de la primera ecuación (a1 b1 c1): \").split())\n",
        "a2, b2, c2 = map(float, input(\"Ingrese los coeficientes de la segunda ecuación (a2 b2 c2): \").split())\n",
        "\n",
        "# Creamos las ecuaciones\n",
        "ec1 = Eq(a1*x + b1*y, c1)\n",
        "ec2 = Eq(a2*x + b2*y, c2)\n",
        "\n",
        "print(\"\\nEcuaciones ingresadas:\")\n",
        "print(\"E1:\", ec1)\n",
        "print(\"E2:\", ec2)\n",
        "\n",
        "# Paso 1: Despejar x de la primera ecuación\n",
        "despeje_x = solve(ec1, x)[0]\n",
        "print(f\"\\nPaso 1: Despejamos x de la primera ecuación:\")\n",
        "print(f\"x = {despeje_x}\")\n",
        "\n",
        "# Paso 2: Sustituimos x en la segunda ecuación\n",
        "print(\"\\nPaso 2: Sustituimos x en la segunda ecuación:\")\n",
        "ec2_sust = ec2.subs(x, despeje_x)\n",
        "print(\"Ecuación en y:\", ec2_sust)\n",
        "\n",
        "# Paso 3: Resolver para y\n",
        "sol_y = solve(ec2_sust, y)[0]\n",
        "print(f\"\\nPaso 3: Resolviendo para y obtenemos: y = {sol_y}\")\n",
        "\n",
        "# Paso 4: Sustituir y en la ecuación de x\n",
        "sol_x = despeje_x.subs(y, sol_y)\n",
        "print(f\"\\nPaso 4: Sustituyendo y en la ecuación despejada obtenemos: x = {sol_x}\")\n",
        "\n",
        "# Solución final\n",
        "print(\"\\n✅ Solución del sistema:\")\n",
        "print(f\"x = {sol_x}, y = {sol_y}\")\n",
        "\n"
      ],
      "metadata": {
        "colab": {
          "base_uri": "https://localhost:8080/"
        },
        "outputId": "600bc668-64e9-47f9-f87f-a2f757b1db84",
        "id": "o8u1dZszZtNy"
      },
      "execution_count": 11,
      "outputs": [
        {
          "output_type": "stream",
          "name": "stdout",
          "text": [
            "Resolviendo un sistema 2x2 con el MÉTODO DE SUSTITUCIÓN\n",
            "Forma general:\n",
            "a1*x + b1*y = c1\n",
            "a2*x + b2*y = c2\n",
            "--------------------------------------------------\n",
            "Ingrese los coeficientes de la primera ecuación (a1 b1 c1): 4 5 5\n",
            "Ingrese los coeficientes de la segunda ecuación (a2 b2 c2): -10 -4 -7\n",
            "\n",
            "Ecuaciones ingresadas:\n",
            "E1: Eq(4.0*x + 5.0*y, 5.0)\n",
            "E2: Eq(-10.0*x - 4.0*y, -7.0)\n",
            "\n",
            "Paso 1: Despejamos x de la primera ecuación:\n",
            "x = 1.25 - 1.25*y\n",
            "\n",
            "Paso 2: Sustituimos x en la segunda ecuación:\n",
            "Ecuación en y: Eq(8.5*y - 12.5, -7.0)\n",
            "\n",
            "Paso 3: Resolviendo para y obtenemos: y = 0.647058823529412\n",
            "\n",
            "Paso 4: Sustituyendo y en la ecuación despejada obtenemos: x = 0.441176470588235\n",
            "\n",
            "✅ Solución del sistema:\n",
            "x = 0.441176470588235, y = 0.647058823529412\n"
          ]
        }
      ]
    },
    {
      "cell_type": "code",
      "source": [
        "!pip install --upgrade // ejercicio 7\n",
        "!pip install sympy"
      ],
      "metadata": {
        "id": "ZuZDocEcaAG4"
      },
      "execution_count": null,
      "outputs": []
    },
    {
      "cell_type": "code",
      "source": [
        "import sympy\n",
        "\n",
        "\n",
        "\n",
        "from sympy import symbols, Eq, solve\n",
        "\n",
        "# Definimos las variables\n",
        "x, y = symbols('x y')\n",
        "\n",
        "print(\"Resolviendo un sistema 2x2 con el MÉTODO DE SUSTITUCIÓN\")\n",
        "print(\"Forma general:\")\n",
        "print(\"a1*x + b1*y = c1\")\n",
        "print(\"a2*x + b2*y = c2\")\n",
        "print(\"-\" * 50)\n",
        "\n",
        "# Pedimos los coeficientes al usuario\n",
        "a1, b1, c1 = map(float, input(\"Ingrese los coeficientes de la primera ecuación (a1 b1 c1): \").split())\n",
        "a2, b2, c2 = map(float, input(\"Ingrese los coeficientes de la segunda ecuación (a2 b2 c2): \").split())\n",
        "\n",
        "# Creamos las ecuaciones\n",
        "ec1 = Eq(a1*x + b1*y, c1)\n",
        "ec2 = Eq(a2*x + b2*y, c2)\n",
        "\n",
        "print(\"\\nEcuaciones ingresadas:\")\n",
        "print(\"E1:\", ec1)\n",
        "print(\"E2:\", ec2)\n",
        "\n",
        "# Paso 1: Despejar x de la primera ecuación\n",
        "despeje_x = solve(ec1, x)[0]\n",
        "print(f\"\\nPaso 1: Despejamos x de la primera ecuación:\")\n",
        "print(f\"x = {despeje_x}\")\n",
        "\n",
        "# Paso 2: Sustituimos x en la segunda ecuación\n",
        "print(\"\\nPaso 2: Sustituimos x en la segunda ecuación:\")\n",
        "ec2_sust = ec2.subs(x, despeje_x)\n",
        "print(\"Ecuación en y:\", ec2_sust)\n",
        "\n",
        "# Paso 3: Resolver para y\n",
        "sol_y = solve(ec2_sust, y)[0]\n",
        "print(f\"\\nPaso 3: Resolviendo para y obtenemos: y = {sol_y}\")\n",
        "\n",
        "# Paso 4: Sustituir y en la ecuación de x\n",
        "sol_x = despeje_x.subs(y, sol_y)\n",
        "print(f\"\\nPaso 4: Sustituyendo y en la ecuación despejada obtenemos: x = {sol_x}\")\n",
        "\n",
        "# Solución final\n",
        "print(\"\\n✅ Solución del sistema:\")\n",
        "print(f\"x = {sol_x}, y = {sol_y}\")\n",
        "\n"
      ],
      "metadata": {
        "colab": {
          "base_uri": "https://localhost:8080/"
        },
        "outputId": "db329dbc-cdff-4ea4-9585-421fe02850bb",
        "id": "v3oI2bAtaD-A"
      },
      "execution_count": 12,
      "outputs": [
        {
          "output_type": "stream",
          "name": "stdout",
          "text": [
            "Resolviendo un sistema 2x2 con el MÉTODO DE SUSTITUCIÓN\n",
            "Forma general:\n",
            "a1*x + b1*y = c1\n",
            "a2*x + b2*y = c2\n",
            "--------------------------------------------------\n",
            "Ingrese los coeficientes de la primera ecuación (a1 b1 c1): 1 1 14\n",
            "Ingrese los coeficientes de la segunda ecuación (a2 b2 c2): 2 4 38\n",
            "\n",
            "Ecuaciones ingresadas:\n",
            "E1: Eq(1.0*x + 1.0*y, 14.0)\n",
            "E2: Eq(2.0*x + 4.0*y, 38.0)\n",
            "\n",
            "Paso 1: Despejamos x de la primera ecuación:\n",
            "x = 14.0 - y\n",
            "\n",
            "Paso 2: Sustituimos x en la segunda ecuación:\n",
            "Ecuación en y: Eq(2.0*y + 28.0, 38.0)\n",
            "\n",
            "Paso 3: Resolviendo para y obtenemos: y = 5.00000000000000\n",
            "\n",
            "Paso 4: Sustituyendo y en la ecuación despejada obtenemos: x = 9.00000000000000\n",
            "\n",
            "✅ Solución del sistema:\n",
            "x = 9.00000000000000, y = 5.00000000000000\n"
          ]
        }
      ]
    },
    {
      "cell_type": "code",
      "source": [
        "!pip install --upgrade // ejercicio 8\n",
        "!pip install sympy"
      ],
      "metadata": {
        "id": "kjsJwWO2aYk5"
      },
      "execution_count": null,
      "outputs": []
    },
    {
      "cell_type": "code",
      "source": [
        "import sympy\n",
        "\n",
        "\n",
        "\n",
        "from sympy import symbols, Eq, solve\n",
        "\n",
        "# Definimos las variables\n",
        "x, y = symbols('x y')\n",
        "\n",
        "print(\"Resolviendo un sistema 2x2 con el MÉTODO DE SUSTITUCIÓN\")\n",
        "print(\"Forma general:\")\n",
        "print(\"a1*x + b1*y = c1\")\n",
        "print(\"a2*x + b2*y = c2\")\n",
        "print(\"-\" * 50)\n",
        "\n",
        "# Pedimos los coeficientes al usuario\n",
        "a1, b1, c1 = map(float, input(\"Ingrese los coeficientes de la primera ecuación (a1 b1 c1): \").split())\n",
        "a2, b2, c2 = map(float, input(\"Ingrese los coeficientes de la segunda ecuación (a2 b2 c2): \").split())\n",
        "\n",
        "# Creamos las ecuaciones\n",
        "ec1 = Eq(a1*x + b1*y, c1)\n",
        "ec2 = Eq(a2*x + b2*y, c2)\n",
        "\n",
        "print(\"\\nEcuaciones ingresadas:\")\n",
        "print(\"E1:\", ec1)\n",
        "print(\"E2:\", ec2)\n",
        "\n",
        "# Paso 1: Despejar x de la primera ecuación\n",
        "despeje_x = solve(ec1, x)[0]\n",
        "print(f\"\\nPaso 1: Despejamos x de la primera ecuación:\")\n",
        "print(f\"x = {despeje_x}\")\n",
        "\n",
        "# Paso 2: Sustituimos x en la segunda ecuación\n",
        "print(\"\\nPaso 2: Sustituimos x en la segunda ecuación:\")\n",
        "ec2_sust = ec2.subs(x, despeje_x)\n",
        "print(\"Ecuación en y:\", ec2_sust)\n",
        "\n",
        "# Paso 3: Resolver para y\n",
        "sol_y = solve(ec2_sust, y)[0]\n",
        "print(f\"\\nPaso 3: Resolviendo para y obtenemos: y = {sol_y}\")\n",
        "\n",
        "# Paso 4: Sustituir y en la ecuación de x\n",
        "sol_x = despeje_x.subs(y, sol_y)\n",
        "print(f\"\\nPaso 4: Sustituyendo y en la ecuación despejada obtenemos: x = {sol_x}\")\n",
        "\n",
        "# Solución final\n",
        "print(\"\\n✅ Solución del sistema:\")\n",
        "print(f\"x = {sol_x}, y = {sol_y}\")\n",
        "\n"
      ],
      "metadata": {
        "colab": {
          "base_uri": "https://localhost:8080/"
        },
        "outputId": "70fe30e4-20a1-4577-8ca6-37be7b8b7c5e",
        "id": "Xgo7s0uVaatA"
      },
      "execution_count": 13,
      "outputs": [
        {
          "output_type": "stream",
          "name": "stdout",
          "text": [
            "Resolviendo un sistema 2x2 con el MÉTODO DE SUSTITUCIÓN\n",
            "Forma general:\n",
            "a1*x + b1*y = c1\n",
            "a2*x + b2*y = c2\n",
            "--------------------------------------------------\n",
            "Ingrese los coeficientes de la primera ecuación (a1 b1 c1): 3 -4 -6\n",
            "Ingrese los coeficientes de la segunda ecuación (a2 b2 c2): 2 4 16\n",
            "\n",
            "Ecuaciones ingresadas:\n",
            "E1: Eq(3.0*x - 4.0*y, -6.0)\n",
            "E2: Eq(2.0*x + 4.0*y, 16.0)\n",
            "\n",
            "Paso 1: Despejamos x de la primera ecuación:\n",
            "x = 1.33333333333333*y - 2.0\n",
            "\n",
            "Paso 2: Sustituimos x en la segunda ecuación:\n",
            "Ecuación en y: Eq(6.66666666666667*y - 4.0, 16.0)\n",
            "\n",
            "Paso 3: Resolviendo para y obtenemos: y = 3.00000000000000\n",
            "\n",
            "Paso 4: Sustituyendo y en la ecuación despejada obtenemos: x = 2.00000000000000\n",
            "\n",
            "✅ Solución del sistema:\n",
            "x = 2.00000000000000, y = 3.00000000000000\n"
          ]
        }
      ]
    },
    {
      "cell_type": "code",
      "source": [
        "!pip install --upgrade // ejercicio 9\n",
        "!pip install sympy"
      ],
      "metadata": {
        "id": "Njd3uBcra4aQ"
      },
      "execution_count": null,
      "outputs": []
    },
    {
      "cell_type": "code",
      "source": [
        "import sympy\n",
        "\n",
        "\n",
        "\n",
        "from sympy import symbols, Eq, solve\n",
        "\n",
        "# Definimos las variables\n",
        "x, y = symbols('x y')\n",
        "\n",
        "print(\"Resolviendo un sistema 2x2 con el MÉTODO DE SUSTITUCIÓN\")\n",
        "print(\"Forma general:\")\n",
        "print(\"a1*x + b1*y = c1\")\n",
        "print(\"a2*x + b2*y = c2\")\n",
        "print(\"-\" * 50)\n",
        "\n",
        "# Pedimos los coeficientes al usuario\n",
        "a1, b1, c1 = map(float, input(\"Ingrese los coeficientes de la primera ecuación (a1 b1 c1): \").split())\n",
        "a2, b2, c2 = map(float, input(\"Ingrese los coeficientes de la segunda ecuación (a2 b2 c2): \").split())\n",
        "\n",
        "# Creamos las ecuaciones\n",
        "ec1 = Eq(a1*x + b1*y, c1)\n",
        "ec2 = Eq(a2*x + b2*y, c2)\n",
        "\n",
        "print(\"\\nEcuaciones ingresadas:\")\n",
        "print(\"E1:\", ec1)\n",
        "print(\"E2:\", ec2)\n",
        "\n",
        "# Paso 1: Despejar x de la primera ecuación\n",
        "despeje_x = solve(ec1, x)[0]\n",
        "print(f\"\\nPaso 1: Despejamos x de la primera ecuación:\")\n",
        "print(f\"x = {despeje_x}\")\n",
        "\n",
        "# Paso 2: Sustituimos x en la segunda ecuación\n",
        "print(\"\\nPaso 2: Sustituimos x en la segunda ecuación:\")\n",
        "ec2_sust = ec2.subs(x, despeje_x)\n",
        "print(\"Ecuación en y:\", ec2_sust)\n",
        "\n",
        "# Paso 3: Resolver para y\n",
        "sol_y = solve(ec2_sust, y)[0]\n",
        "print(f\"\\nPaso 3: Resolviendo para y obtenemos: y = {sol_y}\")\n",
        "\n",
        "# Paso 4: Sustituir y en la ecuación de x\n",
        "sol_x = despeje_x.subs(y, sol_y)\n",
        "print(f\"\\nPaso 4: Sustituyendo y en la ecuación despejada obtenemos: x = {sol_x}\")\n",
        "\n",
        "# Solución final\n",
        "print(\"\\n✅ Solución del sistema:\")\n",
        "print(f\"x = {sol_x}, y = {sol_y}\")\n",
        "\n"
      ],
      "metadata": {
        "colab": {
          "base_uri": "https://localhost:8080/"
        },
        "outputId": "03b4ea0f-3e03-4e3f-f43e-52b1ebdcc59e",
        "id": "8MnBR87Pa51S"
      },
      "execution_count": 14,
      "outputs": [
        {
          "output_type": "stream",
          "name": "stdout",
          "text": [
            "Resolviendo un sistema 2x2 con el MÉTODO DE SUSTITUCIÓN\n",
            "Forma general:\n",
            "a1*x + b1*y = c1\n",
            "a2*x + b2*y = c2\n",
            "--------------------------------------------------\n",
            "Ingrese los coeficientes de la primera ecuación (a1 b1 c1): 1 1  4\n",
            "Ingrese los coeficientes de la segunda ecuación (a2 b2 c2): 2 4 16\n",
            "\n",
            "Ecuaciones ingresadas:\n",
            "E1: Eq(1.0*x + 1.0*y, 4.0)\n",
            "E2: Eq(2.0*x + 4.0*y, 16.0)\n",
            "\n",
            "Paso 1: Despejamos x de la primera ecuación:\n",
            "x = 4.0 - y\n",
            "\n",
            "Paso 2: Sustituimos x en la segunda ecuación:\n",
            "Ecuación en y: Eq(2.0*y + 8.0, 16.0)\n",
            "\n",
            "Paso 3: Resolviendo para y obtenemos: y = 4.00000000000000\n",
            "\n",
            "Paso 4: Sustituyendo y en la ecuación despejada obtenemos: x = 0\n",
            "\n",
            "✅ Solución del sistema:\n",
            "x = 0, y = 4.00000000000000\n"
          ]
        }
      ]
    },
    {
      "cell_type": "code",
      "source": [
        "!pip install --upgrade // ejercicio 10\n",
        "!pip install sympy"
      ],
      "metadata": {
        "id": "jAiw-irMbCUp"
      },
      "execution_count": null,
      "outputs": []
    },
    {
      "cell_type": "code",
      "source": [
        "import sympy\n",
        "\n",
        "\n",
        "\n",
        "from sympy import symbols, Eq, solve\n",
        "\n",
        "# Definimos las variables\n",
        "x, y = symbols('x y')\n",
        "\n",
        "print(\"Resolviendo un sistema 2x2 con el MÉTODO DE SUSTITUCIÓN\")\n",
        "print(\"Forma general:\")\n",
        "print(\"a1*x + b1*y = c1\")\n",
        "print(\"a2*x + b2*y = c2\")\n",
        "print(\"-\" * 50)\n",
        "\n",
        "# Pedimos los coeficientes al usuario\n",
        "a1, b1, c1 = map(float, input(\"Ingrese los coeficientes de la primera ecuación (a1 b1 c1): \").split())\n",
        "a2, b2, c2 = map(float, input(\"Ingrese los coeficientes de la segunda ecuación (a2 b2 c2): \").split())\n",
        "\n",
        "# Creamos las ecuaciones\n",
        "ec1 = Eq(a1*x + b1*y, c1)\n",
        "ec2 = Eq(a2*x + b2*y, c2)\n",
        "\n",
        "print(\"\\nEcuaciones ingresadas:\")\n",
        "print(\"E1:\", ec1)\n",
        "print(\"E2:\", ec2)\n",
        "\n",
        "# Paso 1: Despejar x de la primera ecuación\n",
        "despeje_x = solve(ec1, x)[0]\n",
        "print(f\"\\nPaso 1: Despejamos x de la primera ecuación:\")\n",
        "print(f\"x = {despeje_x}\")\n",
        "\n",
        "# Paso 2: Sustituimos x en la segunda ecuación\n",
        "print(\"\\nPaso 2: Sustituimos x en la segunda ecuación:\")\n",
        "ec2_sust = ec2.subs(x, despeje_x)\n",
        "print(\"Ecuación en y:\", ec2_sust)\n",
        "\n",
        "# Paso 3: Resolver para y\n",
        "sol_y = solve(ec2_sust, y)[0]\n",
        "print(f\"\\nPaso 3: Resolviendo para y obtenemos: y = {sol_y}\")\n",
        "\n",
        "# Paso 4: Sustituir y en la ecuación de x\n",
        "sol_x = despeje_x.subs(y, sol_y)\n",
        "print(f\"\\nPaso 4: Sustituyendo y en la ecuación despejada obtenemos: x = {sol_x}\")\n",
        "\n",
        "# Solución final\n",
        "print(\"\\n✅ Solución del sistema:\")\n",
        "print(f\"x = {sol_x}, y = {sol_y}\")\n",
        "\n"
      ],
      "metadata": {
        "colab": {
          "base_uri": "https://localhost:8080/"
        },
        "outputId": "b33e64c5-a1c4-4118-e8d1-0891874ce344",
        "id": "CsitfXoUbDzI"
      },
      "execution_count": 15,
      "outputs": [
        {
          "output_type": "stream",
          "name": "stdout",
          "text": [
            "Resolviendo un sistema 2x2 con el MÉTODO DE SUSTITUCIÓN\n",
            "Forma general:\n",
            "a1*x + b1*y = c1\n",
            "a2*x + b2*y = c2\n",
            "--------------------------------------------------\n",
            "Ingrese los coeficientes de la primera ecuación (a1 b1 c1): 1 1 14\n",
            "Ingrese los coeficientes de la segunda ecuación (a2 b2 c2): 2 4 38\n",
            "\n",
            "Ecuaciones ingresadas:\n",
            "E1: Eq(1.0*x + 1.0*y, 14.0)\n",
            "E2: Eq(2.0*x + 4.0*y, 38.0)\n",
            "\n",
            "Paso 1: Despejamos x de la primera ecuación:\n",
            "x = 14.0 - y\n",
            "\n",
            "Paso 2: Sustituimos x en la segunda ecuación:\n",
            "Ecuación en y: Eq(2.0*y + 28.0, 38.0)\n",
            "\n",
            "Paso 3: Resolviendo para y obtenemos: y = 5.00000000000000\n",
            "\n",
            "Paso 4: Sustituyendo y en la ecuación despejada obtenemos: x = 9.00000000000000\n",
            "\n",
            "✅ Solución del sistema:\n",
            "x = 9.00000000000000, y = 5.00000000000000\n"
          ]
        }
      ]
    },
    {
      "cell_type": "code",
      "source": [
        "!pip install --upgrade // ejercicio 11\n",
        "!pip install sympy"
      ],
      "metadata": {
        "id": "dVFeJzOsbMpp"
      },
      "execution_count": null,
      "outputs": []
    },
    {
      "cell_type": "code",
      "source": [
        "import sympy\n",
        "\n",
        "\n",
        "\n",
        "from sympy import symbols, Eq, solve\n",
        "\n",
        "# Definimos las variables\n",
        "x, y = symbols('x y')\n",
        "\n",
        "print(\"Resolviendo un sistema 2x2 con el MÉTODO DE SUSTITUCIÓN\")\n",
        "print(\"Forma general:\")\n",
        "print(\"a1*x + b1*y = c1\")\n",
        "print(\"a2*x + b2*y = c2\")\n",
        "print(\"-\" * 50)\n",
        "\n",
        "# Pedimos los coeficientes al usuario\n",
        "a1, b1, c1 = map(float, input(\"Ingrese los coeficientes de la primera ecuación (a1 b1 c1): \").split())\n",
        "a2, b2, c2 = map(float, input(\"Ingrese los coeficientes de la segunda ecuación (a2 b2 c2): \").split())\n",
        "\n",
        "# Creamos las ecuaciones\n",
        "ec1 = Eq(a1*x + b1*y, c1)\n",
        "ec2 = Eq(a2*x + b2*y, c2)\n",
        "\n",
        "print(\"\\nEcuaciones ingresadas:\")\n",
        "print(\"E1:\", ec1)\n",
        "print(\"E2:\", ec2)\n",
        "\n",
        "# Paso 1: Despejar x de la primera ecuación\n",
        "despeje_x = solve(ec1, x)[0]\n",
        "print(f\"\\nPaso 1: Despejamos x de la primera ecuación:\")\n",
        "print(f\"x = {despeje_x}\")\n",
        "\n",
        "# Paso 2: Sustituimos x en la segunda ecuación\n",
        "print(\"\\nPaso 2: Sustituimos x en la segunda ecuación:\")\n",
        "ec2_sust = ec2.subs(x, despeje_x)\n",
        "print(\"Ecuación en y:\", ec2_sust)\n",
        "\n",
        "# Paso 3: Resolver para y\n",
        "sol_y = solve(ec2_sust, y)[0]\n",
        "print(f\"\\nPaso 3: Resolviendo para y obtenemos: y = {sol_y}\")\n",
        "\n",
        "# Paso 4: Sustituir y en la ecuación de x\n",
        "sol_x = despeje_x.subs(y, sol_y)\n",
        "print(f\"\\nPaso 4: Sustituyendo y en la ecuación despejada obtenemos: x = {sol_x}\")\n",
        "\n",
        "# Solución final\n",
        "print(\"\\n✅ Solución del sistema:\")\n",
        "print(f\"x = {sol_x}, y = {sol_y}\")\n",
        "\n"
      ],
      "metadata": {
        "colab": {
          "base_uri": "https://localhost:8080/"
        },
        "outputId": "d0846ce8-e630-4e3f-9308-ffb40f757c4f",
        "id": "BDxk-B9TbOVI"
      },
      "execution_count": 16,
      "outputs": [
        {
          "output_type": "stream",
          "name": "stdout",
          "text": [
            "Resolviendo un sistema 2x2 con el MÉTODO DE SUSTITUCIÓN\n",
            "Forma general:\n",
            "a1*x + b1*y = c1\n",
            "a2*x + b2*y = c2\n",
            "--------------------------------------------------\n",
            "Ingrese los coeficientes de la primera ecuación (a1 b1 c1): 7 -15 1\n",
            "Ingrese los coeficientes de la segunda ecuación (a2 b2 c2): -1 -6 56\n",
            "\n",
            "Ecuaciones ingresadas:\n",
            "E1: Eq(7.0*x - 15.0*y, 1.0)\n",
            "E2: Eq(-1.0*x - 6.0*y, 56.0)\n",
            "\n",
            "Paso 1: Despejamos x de la primera ecuación:\n",
            "x = 2.14285714285714*y + 0.142857142857143\n",
            "\n",
            "Paso 2: Sustituimos x en la segunda ecuación:\n",
            "Ecuación en y: Eq(-8.14285714285714*y - 0.142857142857143, 56.0)\n",
            "\n",
            "Paso 3: Resolviendo para y obtenemos: y = -6.89473684210526\n",
            "\n",
            "Paso 4: Sustituyendo y en la ecuación despejada obtenemos: x = -14.6315789473684\n",
            "\n",
            "✅ Solución del sistema:\n",
            "x = -14.6315789473684, y = -6.89473684210526\n"
          ]
        }
      ]
    }
  ]
}